{
 "cells": [
  {
   "cell_type": "code",
   "execution_count": 220,
   "id": "3f51ca8d-b6e9-4215-a772-def1a4ba1a6e",
   "metadata": {},
   "outputs": [],
   "source": [
    "import pandas as pd\n",
    "from sqlalchemy import create_engine\n",
    "import matplotlib.pyplot as plt\n",
    "import seaborn as sns"
   ]
  },
  {
   "cell_type": "markdown",
   "id": "5f9077eb-59c2-4e31-8923-e2f227772eba",
   "metadata": {
    "jp-MarkdownHeadingCollapsed": true
   },
   "source": [
    "## Extracción"
   ]
  },
  {
   "cell_type": "code",
   "execution_count": 209,
   "id": "7c3989dd-9f25-44cc-94cc-52302223b408",
   "metadata": {},
   "outputs": [],
   "source": [
    "# Define la ruta del archivo Excel\n",
    "filepath = \"../Dataset/mapa_conectividad.xlsx\"\n",
    "\n",
    "# Cargar el archivo Excel\n",
    "xl = pd.ExcelFile(filepath)\n",
    "#print(xl.sheet_names)\n",
    "\n",
    "# Lista de nombres de hojas que deseas cargar\n",
    "hojas = ['Hoja3']  \n",
    "\n",
    "# Diccionario para almacenar los DataFrames\n",
    "dataframes = {}\n",
    "\n",
    "# Leer cada hoja y cargarla en un DataFrame\n",
    "for hoja in hojas:\n",
    "    dataframes[hoja] = xl.parse(hoja)\n",
    "\n",
    "# Ahora puedes acceder a los DataFrames por nombre de hoja\n",
    "df_mapa_conectividad = dataframes['Hoja3']\n"
   ]
  },
  {
   "cell_type": "code",
   "execution_count": 435,
   "id": "aac88c33-9b0b-4dfb-bf74-c2e4da81c0e9",
   "metadata": {},
   "outputs": [],
   "source": [
    "# Define la ruta del archivo Excel\n",
    "filepath = \"../Dataset/Internet.xlsx\"\n",
    "\n",
    "# Cargar el archivo Excel\n",
    "xl = pd.ExcelFile(filepath)\n",
    "#print(xl.sheet_names)\n",
    "\n",
    "# Lista de nombres de hojas que deseas cargar\n",
    "hojas = ['Accesos Por Tecnología', 'Penetración-poblacion', 'Penetracion-hogares']  # Nombres de tus hojas\n",
    "\n",
    "# Diccionario para almacenar los DataFrames\n",
    "dataframes = {}\n",
    "\n",
    "# Leer cada hoja y cargarla en un DataFrame\n",
    "for hoja in hojas:\n",
    "    dataframes[hoja] = xl.parse(hoja)\n",
    "\n",
    "# Ahora puedes acceder a los DataFrames por nombre de hoja\n",
    "df_accesoTecnologiaProvincia = dataframes['Accesos Por Tecnología']\n",
    "df_accesoPoblacionProvincia = dataframes['Penetración-poblacion']\n",
    "df_accesoHogaresProvincia = dataframes['Penetracion-hogares']\n"
   ]
  },
  {
   "cell_type": "code",
   "execution_count": 415,
   "id": "0b4e0c36-167b-42cf-b526-fd37edc7c3c5",
   "metadata": {},
   "outputs": [],
   "source": [
    "# Define la ruta del archivo Excel\n",
    "filepath = \"../Dataset/Television.xlsx\"\n",
    "\n",
    "# Cargar el archivo Excel\n",
    "xl = pd.ExcelFile(filepath)\n",
    "#print(xl.sheet_names)\n",
    "\n",
    "# Lista de nombres de hojas que deseas cargar\n",
    "hojas = ['Penetracion_prov_TV']  \n",
    "\n",
    "# Diccionario para almacenar los DataFrames\n",
    "dataframes = {}\n",
    "\n",
    "# Leer cada hoja y cargarla en un DataFrame\n",
    "for hoja in hojas:\n",
    "    dataframes[hoja] = xl.parse(hoja)\n",
    "\n",
    "# Ahora puedes acceder a los DataFrames por nombre de hoja\n",
    "df_accesoTVsuscripcionProvincia_habitantes_hogares = dataframes['Penetracion_prov_TV']\n"
   ]
  },
  {
   "cell_type": "markdown",
   "id": "162e6851-f166-4131-a8ae-92fe1619c3b5",
   "metadata": {
    "jp-MarkdownHeadingCollapsed": true
   },
   "source": [
    "# Transformaciones DataFrame \"mapa_conectividad\""
   ]
  },
  {
   "cell_type": "code",
   "execution_count": 214,
   "id": "0b40c63a-1544-4a53-a7a9-b54c437c5e8d",
   "metadata": {},
   "outputs": [
    {
     "name": "stdout",
     "output_type": "stream",
     "text": [
      "<class 'pandas.core.frame.DataFrame'>\n",
      "RangeIndex: 4305 entries, 0 to 4304\n",
      "Data columns (total 16 columns):\n",
      " #   Column          Non-Null Count  Dtype  \n",
      "---  ------          --------------  -----  \n",
      " 0   Provincia       4305 non-null   object \n",
      " 1   Partido         4305 non-null   object \n",
      " 2   Localidad       4305 non-null   object \n",
      " 3   Población       4305 non-null   int64  \n",
      " 4   ADSL            4305 non-null   object \n",
      " 5   Cablemódem      4305 non-null   object \n",
      " 6   Dial Up         4305 non-null   object \n",
      " 7   Fibra óptica    4305 non-null   object \n",
      " 8   Satelital       4305 non-null   object \n",
      " 9   Wireless        4305 non-null   object \n",
      " 10  Telefonía Fija  4305 non-null   object \n",
      " 11  3G              4305 non-null   object \n",
      " 12  4G              4305 non-null   object \n",
      " 13  Link            4293 non-null   float64\n",
      " 14  Latitud         4305 non-null   float64\n",
      " 15  Longitud        4305 non-null   float64\n",
      "dtypes: float64(3), int64(1), object(12)\n",
      "memory usage: 538.3+ KB\n"
     ]
    }
   ],
   "source": [
    "# Verificar la estructura del DataFrame y los tipos de datos\n",
    "df_mapa_conectividad.info()"
   ]
  },
  {
   "cell_type": "code",
   "execution_count": 213,
   "id": "1bf70885-4f58-45b9-bdd2-55cf8b0a0a7a",
   "metadata": {},
   "outputs": [
    {
     "name": "stdout",
     "output_type": "stream",
     "text": [
      "      Provincia     Partido          Localidad  Población ADSL Cablemódem  \\\n",
      "0  BUENOS AIRES  25 de Mayo         25 de Mayo      23408   SI         SI   \n",
      "1  BUENOS AIRES  25 de Mayo    Agustín Mosconi        280   --         --   \n",
      "2  BUENOS AIRES  25 de Mayo          Del Valle        899   SI         --   \n",
      "3  BUENOS AIRES  25 de Mayo          Ernestina        145   SI         --   \n",
      "4  BUENOS AIRES  25 de Mayo  Gobernador Ugarte        547   --         --   \n",
      "\n",
      "  Dial Up Fibra óptica Satelital Wireless Telefonía Fija  3G  4G       Link  \\\n",
      "0      --           --        SI       SI             SI  SI  SI  6854100.0   \n",
      "1      --           --        --       --             SI  --  --  6854010.0   \n",
      "2      --           --        SI       --             --  SI  --  6854020.0   \n",
      "3      --           --        --       --             SI  --  --  6854030.0   \n",
      "4      --           --        --       SI             --  --  --  6854040.0   \n",
      "\n",
      "     Latitud   Longitud  \n",
      "0 -35.433939 -60.173121  \n",
      "1 -35.739217 -60.559063  \n",
      "2 -35.897345 -60.731609  \n",
      "3 -35.270234 -59.557503  \n",
      "4 -35.164397 -60.081358  \n"
     ]
    }
   ],
   "source": [
    "print(df_mapa_conectividad.head())"
   ]
  },
  {
   "cell_type": "code",
   "execution_count": 217,
   "id": "d274ac42-5803-4e7c-9c2f-f4b9548bc122",
   "metadata": {},
   "outputs": [
    {
     "name": "stdout",
     "output_type": "stream",
     "text": [
      "       Provincia  Población\n",
      "0   BUENOS AIRES   14911542\n",
      "5        CORDOBA    3139606\n",
      "20      SANTA FE    3055611\n",
      "1           CABA    2890151\n",
      "12       MENDOZA    1654993\n"
     ]
    }
   ],
   "source": [
    "# Agrupar la población por 'Provincia', ordenando de mayor a menor\n",
    "df_agrupado = df_mapa_conectividad.groupby('Provincia', as_index=False)['Población'].sum().sort_values(by='Población', ascending=False)\n",
    "\n",
    "# Seleccionar solo el top 5 de provincias\n",
    "df_top5 = df_agrupado.head(5)\n",
    "\n",
    "# Verificar el DataFrame\n",
    "print(df_top5.head())"
   ]
  },
  {
   "cell_type": "code",
   "execution_count": 239,
   "id": "8e98ae27-4408-4ff1-bbec-4791eadb7c1e",
   "metadata": {},
   "outputs": [
    {
     "name": "stdout",
     "output_type": "stream",
     "text": [
      "<class 'pandas.core.frame.DataFrame'>\n",
      "Index: 5 entries, 0 to 12\n",
      "Data columns (total 3 columns):\n",
      " #   Column      Non-Null Count  Dtype  \n",
      "---  ------      --------------  -----  \n",
      " 0   provincia   5 non-null      object \n",
      " 1   poblacion   5 non-null      int64  \n",
      " 2   porcentaje  5 non-null      float64\n",
      "dtypes: float64(1), int64(1), object(1)\n",
      "memory usage: 160.0+ bytes\n"
     ]
    }
   ],
   "source": [
    "# Renombrar columnas a minúsculas y sin tildes\n",
    "df_top5.rename(columns={\n",
    "    'Provincia': 'provincia',  \n",
    "    'Población': 'poblacion',\n",
    "    'Porcentaje':'porcentaje'\n",
    "}, inplace=True)\n",
    "\n",
    "# Verificar el cambio de nombres de columnas\n",
    "df_top5.info()"
   ]
  },
  {
   "cell_type": "markdown",
   "id": "1a59befa-b908-475b-a0dd-155e71fed195",
   "metadata": {
    "jp-MarkdownHeadingCollapsed": true
   },
   "source": [
    "# Transformaciones DataFrame \"Accesos por Tecnología\""
   ]
  },
  {
   "cell_type": "code",
   "execution_count": 141,
   "id": "2c41bedf-08a1-4171-8571-6485b4976536",
   "metadata": {},
   "outputs": [
    {
     "name": "stdout",
     "output_type": "stream",
     "text": [
      "    Año Trimestre        Provincia      ADSL  Cablemodem  Fibra óptica  \\\n",
      "0  2024         1     Buenos Aires  203297.0   2790663.0     1799013.0   \n",
      "1  2024         1  Capital Federal   70108.0   1177475.0      203756.0   \n",
      "2  2024         1        Catamarca    5901.0     11025.0       56542.0   \n",
      "3  2024         1            Chaco   11343.0     58929.0       64463.0   \n",
      "4  2024         1           Chubut   26306.0     77217.0       26356.0   \n",
      "\n",
      "   Wireless     Otros      Total  \n",
      "0  150290.0  101294.0  5044557.0  \n",
      "1    4493.0   48879.0  1504711.0  \n",
      "2    1384.0      81.0    74933.0  \n",
      "3    8404.0   12404.0   155543.0  \n",
      "4   30867.0    9930.0   170676.0  \n"
     ]
    }
   ],
   "source": [
    "print(df_accesoTecnologiaProvincia.head())\n",
    "#print(df_accesoPoblacionProvincia.head())"
   ]
  },
  {
   "cell_type": "code",
   "execution_count": 142,
   "id": "d5447615-e000-41f5-817f-f71c95d64d85",
   "metadata": {},
   "outputs": [
    {
     "name": "stdout",
     "output_type": "stream",
     "text": [
      "<class 'pandas.core.frame.DataFrame'>\n",
      "RangeIndex: 986 entries, 0 to 985\n",
      "Data columns (total 9 columns):\n",
      " #   Column        Non-Null Count  Dtype  \n",
      "---  ------        --------------  -----  \n",
      " 0   Año           985 non-null    object \n",
      " 1   Trimestre     985 non-null    object \n",
      " 2   Provincia     984 non-null    object \n",
      " 3   ADSL          984 non-null    float64\n",
      " 4   Cablemodem    984 non-null    float64\n",
      " 5   Fibra óptica  984 non-null    float64\n",
      " 6   Wireless      984 non-null    float64\n",
      " 7   Otros         984 non-null    float64\n",
      " 8   Total         984 non-null    float64\n",
      "dtypes: float64(6), object(3)\n",
      "memory usage: 69.5+ KB\n"
     ]
    }
   ],
   "source": [
    "df_accesoTecnologiaProvincia.info()"
   ]
  },
  {
   "cell_type": "code",
   "execution_count": 242,
   "id": "34819e90-6d5d-4d74-995d-88a6c26d82b1",
   "metadata": {},
   "outputs": [
    {
     "name": "stdout",
     "output_type": "stream",
     "text": [
      "Provincia\n",
      "Capital Federal    40\n",
      "Name: count, dtype: int64\n"
     ]
    }
   ],
   "source": [
    "# Filtrar las filas donde la provincia sea \"Caba\" o \"Capital Federal\"\n",
    "df_caba_capital_federal = df_accesoTecnologiaProvincia[df_accesoTecnologiaProvincia['Provincia'].isin(['Caba', 'Capital Federal'])]\n",
    "\n",
    "# Contar cuántos registros hay por cada valor\n",
    "conteo_provincias = df_caba_capital_federal['Provincia'].value_counts()\n",
    "\n",
    "# Mostrar el resultado\n",
    "print(conteo_provincias)\n"
   ]
  },
  {
   "cell_type": "code",
   "execution_count": 241,
   "id": "a66d59ed-6a00-4582-85ab-7f1b0a4ffc33",
   "metadata": {},
   "outputs": [
    {
     "name": "stdout",
     "output_type": "stream",
     "text": [
      "<class 'pandas.core.frame.DataFrame'>\n",
      "Index: 200 entries, 24 to 980\n",
      "Data columns (total 9 columns):\n",
      " #   Column        Non-Null Count  Dtype  \n",
      "---  ------        --------------  -----  \n",
      " 0   Año           200 non-null    object \n",
      " 1   Trimestre     200 non-null    object \n",
      " 2   Provincia     200 non-null    object \n",
      " 3   ADSL          200 non-null    float64\n",
      " 4   Cablemodem    200 non-null    float64\n",
      " 5   Fibra óptica  200 non-null    float64\n",
      " 6   Wireless      200 non-null    float64\n",
      " 7   Otros         200 non-null    float64\n",
      " 8   Total         200 non-null    float64\n",
      "dtypes: float64(6), object(3)\n",
      "memory usage: 15.6+ KB\n"
     ]
    }
   ],
   "source": [
    "# Lista de provincias a filtrar\n",
    "provincias_filtrar = ['Buenos Aires', 'Córdoba', 'Santa Fe', 'Capital Federal', 'Mendoza']\n",
    "\n",
    "# Filtrar el DataFrame por las provincias seleccionadas\n",
    "df_filtrado_provincias = df_accesoTecnologiaProvincia[df_accesoTecnologiaProvincia['Provincia'].isin(provincias_filtrar)]\n",
    "\n",
    "# Verificar el resultado\n",
    "df_filtrado_provincias.info()\n"
   ]
  },
  {
   "cell_type": "code",
   "execution_count": 243,
   "id": "d9c7193f-4f5e-4bf5-b136-c0165475b5c2",
   "metadata": {},
   "outputs": [],
   "source": [
    "# Eliminar las columnas 'Otros', y 'Total'\n",
    "df_accesoTecnologiaProvincia = df_filtrado_provincias[df_filtrado_provincias['Año'] != 2024]\n",
    "df_accesoTecnologiaProvincia_cleaned = df_accesoTecnologiaProvincia.drop(columns=['Otros', 'Total'], errors='ignore')\n",
    "\n",
    "# Unificar las columnas 'ADSL', 'Cablemodem', 'Fibra óptica', 'Wireless' en una sola columna\n",
    "df_accesoTecnologiaProvincia_unpivoted = df_accesoTecnologiaProvincia_cleaned.melt(\n",
    "    id_vars=[col for col in df_accesoTecnologiaProvincia_cleaned.columns if col not in ['ADSL', 'Cablemodem', 'Fibra óptica', 'Wireless']],\n",
    "    value_vars=['ADSL', 'Cablemodem', 'Fibra óptica', 'Wireless'],\n",
    "    var_name='Tecnología', \n",
    "    value_name='Accesos'\n",
    ")"
   ]
  },
  {
   "cell_type": "code",
   "execution_count": 244,
   "id": "d918029c-b7cc-41df-be24-53f701787908",
   "metadata": {},
   "outputs": [
    {
     "name": "stdout",
     "output_type": "stream",
     "text": [
      "[2023 2022 2021 2020 2019 '2019 *' 2018 2017 2016 2015 2014]\n"
     ]
    }
   ],
   "source": [
    "# Verificar los valores únicos de la columna 'Año'\n",
    "print(df_accesoTecnologiaProvincia_unpivoted['Año'].unique())\n"
   ]
  },
  {
   "cell_type": "code",
   "execution_count": 245,
   "id": "2ca9189c-d9bf-4dac-9500-0470f6918eeb",
   "metadata": {},
   "outputs": [
    {
     "name": "stdout",
     "output_type": "stream",
     "text": [
      "0\n"
     ]
    }
   ],
   "source": [
    "#Código para limpiar la columna Año:\n",
    "\n",
    "# Asegurarse de que todos los valores de la columna 'Año' sean cadenas de texto\n",
    "df_accesoTecnologiaProvincia_unpivoted['Año'] = df_accesoTecnologiaProvincia_unpivoted['Año'].astype(str)\n",
    "\n",
    "# Limpiar la columna 'Año' eliminando caracteres no numéricos (como '*' o espacios)\n",
    "df_accesoTecnologiaProvincia_unpivoted['Año'] = df_accesoTecnologiaProvincia_unpivoted['Año'].str.extract(r'(\\d{4})')\n",
    "\n",
    "# Convertir la columna 'Año' a tipo numérico (entero)\n",
    "#df_accesoTecnologiaProvincia_unpivoted['Año'] = pd.to_datetime(df_accesoTecnologiaProvincia_unpivoted['Año'], format='%Y', errors='coerce')\n",
    "\n",
    "# Eliminar las filas con valores nulos en 'Año'\n",
    "df_accesoTecnologiaProvincia_unpivoted = df_accesoTecnologiaProvincia_unpivoted.dropna(subset=['Año'])\n",
    "\n",
    "# Verificar si hay valores nulos o errores después de la conversión\n",
    "print(df_accesoTecnologiaProvincia_unpivoted['Año'].isnull().sum())"
   ]
  },
  {
   "cell_type": "code",
   "execution_count": 246,
   "id": "48a04c99-ab40-4f17-9853-34bc8e57c365",
   "metadata": {},
   "outputs": [
    {
     "name": "stdout",
     "output_type": "stream",
     "text": [
      "['2023' '2022' '2021' '2020' '2019' '2018' '2017' '2016' '2015' '2014']\n"
     ]
    }
   ],
   "source": [
    "# Verificar los valores únicos de la columna 'Año'\n",
    "print(df_accesoTecnologiaProvincia_unpivoted['Año'].unique())"
   ]
  },
  {
   "cell_type": "code",
   "execution_count": 247,
   "id": "0a986a82-76f7-40d6-931a-d55b1d188fe1",
   "metadata": {},
   "outputs": [
    {
     "name": "stdout",
     "output_type": "stream",
     "text": [
      "0\n"
     ]
    }
   ],
   "source": [
    "#Código para limpiar la columna Trimestre:\n",
    "\n",
    "# Asegurarse de que todos los valores de 'Trimestre' sean cadenas para poder limpiarlos\n",
    "df_accesoTecnologiaProvincia_unpivoted['Trimestre'] = df_accesoTecnologiaProvincia_unpivoted['Trimestre'].astype(str)\n",
    "\n",
    "# Limpiar la columna 'Trimestre' eliminando cualquier carácter no numérico\n",
    "df_accesoTecnologiaProvincia_unpivoted['Trimestre'] = df_accesoTecnologiaProvincia_unpivoted['Trimestre'].str.extract(r'(\\d+)')\n",
    "\n",
    "# Convertir la columna 'Trimestre' a tipo numérico (entero)\n",
    "df_accesoTecnologiaProvincia_unpivoted['Trimestre'] = pd.to_numeric(df_accesoTecnologiaProvincia_unpivoted['Trimestre'], errors='coerce')\n",
    "\n",
    "# Verificar si hay valores nulos\n",
    "print(df_accesoTecnologiaProvincia_unpivoted['Trimestre'].isnull().sum())\n",
    "\n",
    "# Eliminar filas con valores nulos en 'Trimestre'\n",
    "df_accesoTecnologiaProvincia_unpivoted = df_accesoTecnologiaProvincia_unpivoted.dropna(subset=['Trimestre'])"
   ]
  },
  {
   "cell_type": "code",
   "execution_count": 248,
   "id": "0fa0c064-f1cc-4c9b-a6a0-d6e922ba0a49",
   "metadata": {},
   "outputs": [
    {
     "name": "stdout",
     "output_type": "stream",
     "text": [
      "    Año  Trimestre      fecha\n",
      "0  2023          4 2023-10-01\n",
      "1  2023          4 2023-10-01\n",
      "2  2023          4 2023-10-01\n",
      "3  2023          4 2023-10-01\n",
      "4  2023          4 2023-10-01\n"
     ]
    }
   ],
   "source": [
    "# Crear una función para asignar una fecha basada en el año y el trimestre\n",
    "def generar_fecha(row):\n",
    "    if row['Trimestre'] == 1:\n",
    "        return f\"{row['Año']}-01-01\"\n",
    "    elif row['Trimestre'] == 2:\n",
    "        return f\"{row['Año']}-04-01\"\n",
    "    elif row['Trimestre'] == 3:\n",
    "        return f\"{row['Año']}-07-01\"\n",
    "    elif row['Trimestre'] == 4:\n",
    "        return f\"{row['Año']}-10-01\"\n",
    "\n",
    "# Asegurarse de estar trabajando con una copia completa del DataFrame\n",
    "df_accesoTecnologiaProvincia_unpivoted = df_accesoTecnologiaProvincia_unpivoted.copy()\n",
    "\n",
    "# Aplicar la función para crear la nueva columna 'fecha'\n",
    "df_accesoTecnologiaProvincia_unpivoted['fecha'] = df_accesoTecnologiaProvincia_unpivoted.apply(generar_fecha, axis=1)\n",
    "\n",
    "# Convertir la columna 'fecha' a tipo datetime\n",
    "df_accesoTecnologiaProvincia_unpivoted['fecha'] = pd.to_datetime(df_accesoTecnologiaProvincia_unpivoted['fecha'], format='%Y-%m-%d')\n",
    "\n",
    "# Verificar el DataFrame con la nueva columna 'fecha'\n",
    "print(df_accesoTecnologiaProvincia_unpivoted[['Año', 'Trimestre', 'fecha']].head())\n"
   ]
  },
  {
   "cell_type": "code",
   "execution_count": 249,
   "id": "900e8599-c377-45ba-a401-634877b97f65",
   "metadata": {},
   "outputs": [],
   "source": [
    "# Eliminar las columnas 'Año' y 'Trimestre' ya que ahora tenemos la columna 'fecha'\n",
    "df_accesoTecnologiaProvincia_unpivoted = df_accesoTecnologiaProvincia_unpivoted.drop(columns=['Año', 'Trimestre'])\n",
    "\n",
    "# Reubicar la columna 'fecha' como la primera columna del DataFrame\n",
    "cols = ['fecha'] + [col for col in df_accesoTecnologiaProvincia_unpivoted.columns if col != 'fecha']\n",
    "df_accesoTecnologiaProvincia_unpivoted = df_accesoTecnologiaProvincia_unpivoted[cols]\n"
   ]
  },
  {
   "cell_type": "code",
   "execution_count": 250,
   "id": "48f7e925-1b2c-4fd1-83a5-d050ebf406f7",
   "metadata": {},
   "outputs": [
    {
     "data": {
      "text/html": [
       "<div>\n",
       "<style scoped>\n",
       "    .dataframe tbody tr th:only-of-type {\n",
       "        vertical-align: middle;\n",
       "    }\n",
       "\n",
       "    .dataframe tbody tr th {\n",
       "        vertical-align: top;\n",
       "    }\n",
       "\n",
       "    .dataframe thead th {\n",
       "        text-align: right;\n",
       "    }\n",
       "</style>\n",
       "<table border=\"1\" class=\"dataframe\">\n",
       "  <thead>\n",
       "    <tr style=\"text-align: right;\">\n",
       "      <th></th>\n",
       "      <th>fecha</th>\n",
       "      <th>Provincia</th>\n",
       "      <th>Tecnología</th>\n",
       "      <th>Accesos</th>\n",
       "    </tr>\n",
       "  </thead>\n",
       "  <tbody>\n",
       "    <tr>\n",
       "      <th>0</th>\n",
       "      <td>2023-10-01</td>\n",
       "      <td>Buenos Aires</td>\n",
       "      <td>ADSL</td>\n",
       "      <td>223391.0</td>\n",
       "    </tr>\n",
       "    <tr>\n",
       "      <th>1</th>\n",
       "      <td>2023-10-01</td>\n",
       "      <td>Capital Federal</td>\n",
       "      <td>ADSL</td>\n",
       "      <td>58700.0</td>\n",
       "    </tr>\n",
       "    <tr>\n",
       "      <th>2</th>\n",
       "      <td>2023-10-01</td>\n",
       "      <td>Córdoba</td>\n",
       "      <td>ADSL</td>\n",
       "      <td>115662.0</td>\n",
       "    </tr>\n",
       "    <tr>\n",
       "      <th>3</th>\n",
       "      <td>2023-10-01</td>\n",
       "      <td>Mendoza</td>\n",
       "      <td>ADSL</td>\n",
       "      <td>17676.0</td>\n",
       "    </tr>\n",
       "    <tr>\n",
       "      <th>4</th>\n",
       "      <td>2023-10-01</td>\n",
       "      <td>Santa Fe</td>\n",
       "      <td>ADSL</td>\n",
       "      <td>97004.0</td>\n",
       "    </tr>\n",
       "  </tbody>\n",
       "</table>\n",
       "</div>"
      ],
      "text/plain": [
       "       fecha        Provincia Tecnología   Accesos\n",
       "0 2023-10-01     Buenos Aires       ADSL  223391.0\n",
       "1 2023-10-01  Capital Federal       ADSL   58700.0\n",
       "2 2023-10-01          Córdoba       ADSL  115662.0\n",
       "3 2023-10-01          Mendoza       ADSL   17676.0\n",
       "4 2023-10-01         Santa Fe       ADSL   97004.0"
      ]
     },
     "execution_count": 250,
     "metadata": {},
     "output_type": "execute_result"
    }
   ],
   "source": [
    "# Ver las primeras filas del nuevo DataFrame\n",
    "df_accesoTecnologiaProvincia_unpivoted.head()"
   ]
  },
  {
   "cell_type": "code",
   "execution_count": 251,
   "id": "cd659485-b108-41c1-9b52-077ca1095389",
   "metadata": {},
   "outputs": [],
   "source": [
    "# Renombrar columnas a minúsculas y sin tildes\n",
    "df_accesoTecnologiaProvincia_unpivoted.rename(columns={\n",
    "    'Provincia': 'provincia',\n",
    "    'Tecnología': 'tecnologia',\n",
    "    'Accesos': 'accesos'\n",
    "}, inplace=True)"
   ]
  },
  {
   "cell_type": "code",
   "execution_count": 252,
   "id": "8f973759-2dec-4ef7-b4c5-30d1ab45c302",
   "metadata": {},
   "outputs": [
    {
     "name": "stdout",
     "output_type": "stream",
     "text": [
      "<class 'pandas.core.frame.DataFrame'>\n",
      "RangeIndex: 800 entries, 0 to 799\n",
      "Data columns (total 4 columns):\n",
      " #   Column      Non-Null Count  Dtype         \n",
      "---  ------      --------------  -----         \n",
      " 0   fecha       800 non-null    datetime64[ns]\n",
      " 1   provincia   800 non-null    object        \n",
      " 2   tecnologia  800 non-null    object        \n",
      " 3   accesos     800 non-null    float64       \n",
      "dtypes: datetime64[ns](1), float64(1), object(2)\n",
      "memory usage: 25.1+ KB\n"
     ]
    }
   ],
   "source": [
    "df_accesoTecnologiaProvincia_unpivoted.info()"
   ]
  },
  {
   "cell_type": "markdown",
   "id": "fb885a66-686a-46c5-84e2-635066cbd90e",
   "metadata": {
    "jp-MarkdownHeadingCollapsed": true
   },
   "source": [
    "# Transformaciones DataFrame \"Penetracion_prov_TV\""
   ]
  },
  {
   "cell_type": "code",
   "execution_count": 368,
   "id": "090ff4d1-15d1-4472-9779-e1e5d59bc8d2",
   "metadata": {},
   "outputs": [
    {
     "name": "stdout",
     "output_type": "stream",
     "text": [
      "    Año  Trimestre        Provincia  \\\n",
      "0  2024          2     Buenos Aires   \n",
      "1  2024          2  Capital Federal   \n",
      "2  2024          2        Catamarca   \n",
      "3  2024          2            Chaco   \n",
      "4  2024          2           Chubut   \n",
      "\n",
      "   Accesos TV por suscripción por cada 100 hab  \\\n",
      "0                                        15.80   \n",
      "1                                        22.48   \n",
      "2                                        12.79   \n",
      "3                                         9.23   \n",
      "4                                        11.92   \n",
      "\n",
      "   Accesos TV por suscripción por cada 100 hogares  \n",
      "0                                            45.98  \n",
      "1                                            55.15  \n",
      "2                                            50.29  \n",
      "3                                            34.52  \n",
      "4                                            38.88  \n"
     ]
    }
   ],
   "source": [
    "print(df_accesoTVsuscripcionProvincia_habitantes_hogares.head())"
   ]
  },
  {
   "cell_type": "code",
   "execution_count": 193,
   "id": "42997787-d4c0-456b-9d8c-e7b1b32d88ca",
   "metadata": {},
   "outputs": [
    {
     "name": "stdout",
     "output_type": "stream",
     "text": [
      "<class 'pandas.core.frame.DataFrame'>\n",
      "RangeIndex: 1000 entries, 0 to 999\n",
      "Data columns (total 5 columns):\n",
      " #   Column                                           Non-Null Count  Dtype  \n",
      "---  ------                                           --------------  -----  \n",
      " 0   Año                                              1000 non-null   int64  \n",
      " 1   Trimestre                                        1000 non-null   int64  \n",
      " 2   Provincia                                        1000 non-null   object \n",
      " 3   Accesos TV por suscripción por cada 100 hab      1000 non-null   float64\n",
      " 4   Accesos TV por suscripción por cada 100 hogares  1000 non-null   float64\n",
      "dtypes: float64(2), int64(2), object(1)\n",
      "memory usage: 39.2+ KB\n"
     ]
    }
   ],
   "source": [
    "df_accesoTVsuscripcionProvincia_habitantes_hogares.info()"
   ]
  },
  {
   "cell_type": "code",
   "execution_count": 369,
   "id": "9f724610-4b98-468e-b4fa-a68ffde596e2",
   "metadata": {},
   "outputs": [
    {
     "name": "stdout",
     "output_type": "stream",
     "text": [
      "[2024 2023 2022 2021 2020 2019 2018 2017 2016 2015 2014]\n",
      "0\n"
     ]
    }
   ],
   "source": [
    "# Verificar los valores únicos de la columna 'Año'\n",
    "print(df_accesoTVsuscripcionProvincia_habitantes_hogares['Año'].unique())\n",
    "\n",
    "# Verificar si hay valores nulos o errores \n",
    "print(df_accesoTVsuscripcionProvincia_habitantes_hogares['Año'].isnull().sum())"
   ]
  },
  {
   "cell_type": "code",
   "execution_count": 370,
   "id": "75c1bc8e-0e9e-4b51-a134-257471b8dd9a",
   "metadata": {},
   "outputs": [],
   "source": [
    "# Asegurarse de que todos los valores de la columna 'Año' sean cadenas de texto\n",
    "df_accesoTVsuscripcionProvincia_habitantes_hogares['Año'] = df_accesoTVsuscripcionProvincia_habitantes_hogares['Año'].astype(str)"
   ]
  },
  {
   "cell_type": "code",
   "execution_count": 371,
   "id": "9c1981b6-eb96-472f-8e9c-4edc2dd2ea41",
   "metadata": {},
   "outputs": [
    {
     "name": "stdout",
     "output_type": "stream",
     "text": [
      "0\n"
     ]
    }
   ],
   "source": [
    "# Preprocesamiento columna 'Trimestre'\n",
    "# Verificar si hay valores nulos\n",
    "print(df_accesoTVsuscripcionProvincia_habitantes_hogares['Trimestre'].isnull().sum())\n",
    "\n",
    "# Asegurarse de que todos los valores de 'Trimestre' sean cadenas para poder limpiarlos\n",
    "df_accesoTVsuscripcionProvincia_habitantes_hogares['Trimestre'] = df_accesoTVsuscripcionProvincia_habitantes_hogares['Trimestre'].astype(str)\n",
    "\n",
    "# Limpiar la columna 'Trimestre' eliminando cualquier carácter no numérico\n",
    "df_accesoTVsuscripcionProvincia_habitantes_hogares['Trimestre'] = df_accesoTVsuscripcionProvincia_habitantes_hogares['Trimestre'].str.extract(r'(\\d+)')\n",
    "\n",
    "# Convertir la columna 'Trimestre' a tipo numérico (entero)\n",
    "df_accesoTVsuscripcionProvincia_habitantes_hogares['Trimestre'] = pd.to_numeric(df_accesoTVsuscripcionProvincia_habitantes_hogares['Trimestre'], errors='coerce')"
   ]
  },
  {
   "cell_type": "code",
   "execution_count": 372,
   "id": "d2533a81-a8f7-44eb-a5d5-2c6e0ec7f43a",
   "metadata": {},
   "outputs": [
    {
     "name": "stdout",
     "output_type": "stream",
     "text": [
      "    Año  Trimestre      fecha\n",
      "0  2024          2 2024-04-01\n",
      "1  2024          2 2024-04-01\n",
      "2  2024          2 2024-04-01\n",
      "3  2024          2 2024-04-01\n",
      "4  2024          2 2024-04-01\n"
     ]
    }
   ],
   "source": [
    "# Crear una función para asignar una fecha basada en el año y el trimestre\n",
    "def generar_fecha(row):\n",
    "    if row['Trimestre'] == 1:\n",
    "        return f\"{row['Año']}-01-01\"\n",
    "    elif row['Trimestre'] == 2:\n",
    "        return f\"{row['Año']}-04-01\"\n",
    "    elif row['Trimestre'] == 3:\n",
    "        return f\"{row['Año']}-07-01\"\n",
    "    elif row['Trimestre'] == 4:\n",
    "        return f\"{row['Año']}-10-01\"\n",
    "\n",
    "# Asegurarse de estar trabajando con una copia completa del DataFrame\n",
    "df_accesoTVsuscripcionProvincia_habitantes_hogares = df_accesoTVsuscripcionProvincia_habitantes_hogares.copy()\n",
    "\n",
    "# Aplicar la función para crear la nueva columna 'fecha'\n",
    "df_accesoTVsuscripcionProvincia_habitantes_hogares['fecha'] = df_accesoTVsuscripcionProvincia_habitantes_hogares.apply(generar_fecha, axis=1)\n",
    "\n",
    "# Convertir la columna 'fecha' a tipo datetime\n",
    "df_accesoTVsuscripcionProvincia_habitantes_hogares['fecha'] = pd.to_datetime(df_accesoTVsuscripcionProvincia_habitantes_hogares['fecha'], format='%Y-%m-%d')\n",
    "\n",
    "# Verificar el DataFrame con la nueva columna 'fecha'\n",
    "print(df_accesoTVsuscripcionProvincia_habitantes_hogares[['Año', 'Trimestre', 'fecha']].head())"
   ]
  },
  {
   "cell_type": "code",
   "execution_count": 373,
   "id": "682e72df-ec03-4a23-9aec-7263de7d2e86",
   "metadata": {},
   "outputs": [],
   "source": [
    "# Eliminar las columnas 'Año' y 'Trimestre' ya que ahora tenemos la columna 'fecha'\n",
    "df_accesoTVsuscripcionProvincia_habitantes_hogares = df_accesoTVsuscripcionProvincia_habitantes_hogares.drop(columns=['Año', 'Trimestre'])\n",
    "\n",
    "# Reubicar la columna 'fecha' como la primera columna del DataFrame\n",
    "cols = ['fecha'] + [col for col in df_accesoTVsuscripcionProvincia_habitantes_hogares.columns if col != 'fecha']\n",
    "df_accesoTVsuscripcionProvincia_habitantes_hogares = df_accesoTVsuscripcionProvincia_habitantes_hogares[cols]"
   ]
  },
  {
   "cell_type": "code",
   "execution_count": 374,
   "id": "aeb587a2-5d0e-4f34-8c0f-962f65130a4f",
   "metadata": {},
   "outputs": [
    {
     "data": {
      "text/html": [
       "<div>\n",
       "<style scoped>\n",
       "    .dataframe tbody tr th:only-of-type {\n",
       "        vertical-align: middle;\n",
       "    }\n",
       "\n",
       "    .dataframe tbody tr th {\n",
       "        vertical-align: top;\n",
       "    }\n",
       "\n",
       "    .dataframe thead th {\n",
       "        text-align: right;\n",
       "    }\n",
       "</style>\n",
       "<table border=\"1\" class=\"dataframe\">\n",
       "  <thead>\n",
       "    <tr style=\"text-align: right;\">\n",
       "      <th></th>\n",
       "      <th>fecha</th>\n",
       "      <th>Provincia</th>\n",
       "      <th>Accesos TV por suscripción por cada 100 hab</th>\n",
       "      <th>Accesos TV por suscripción por cada 100 hogares</th>\n",
       "    </tr>\n",
       "  </thead>\n",
       "  <tbody>\n",
       "    <tr>\n",
       "      <th>0</th>\n",
       "      <td>2024-04-01</td>\n",
       "      <td>Buenos Aires</td>\n",
       "      <td>15.80</td>\n",
       "      <td>45.98</td>\n",
       "    </tr>\n",
       "    <tr>\n",
       "      <th>1</th>\n",
       "      <td>2024-04-01</td>\n",
       "      <td>Capital Federal</td>\n",
       "      <td>22.48</td>\n",
       "      <td>55.15</td>\n",
       "    </tr>\n",
       "    <tr>\n",
       "      <th>2</th>\n",
       "      <td>2024-04-01</td>\n",
       "      <td>Catamarca</td>\n",
       "      <td>12.79</td>\n",
       "      <td>50.29</td>\n",
       "    </tr>\n",
       "    <tr>\n",
       "      <th>3</th>\n",
       "      <td>2024-04-01</td>\n",
       "      <td>Chaco</td>\n",
       "      <td>9.23</td>\n",
       "      <td>34.52</td>\n",
       "    </tr>\n",
       "    <tr>\n",
       "      <th>4</th>\n",
       "      <td>2024-04-01</td>\n",
       "      <td>Chubut</td>\n",
       "      <td>11.92</td>\n",
       "      <td>38.88</td>\n",
       "    </tr>\n",
       "  </tbody>\n",
       "</table>\n",
       "</div>"
      ],
      "text/plain": [
       "       fecha        Provincia  Accesos TV por suscripción por cada 100 hab  \\\n",
       "0 2024-04-01     Buenos Aires                                        15.80   \n",
       "1 2024-04-01  Capital Federal                                        22.48   \n",
       "2 2024-04-01        Catamarca                                        12.79   \n",
       "3 2024-04-01            Chaco                                         9.23   \n",
       "4 2024-04-01           Chubut                                        11.92   \n",
       "\n",
       "   Accesos TV por suscripción por cada 100 hogares  \n",
       "0                                            45.98  \n",
       "1                                            55.15  \n",
       "2                                            50.29  \n",
       "3                                            34.52  \n",
       "4                                            38.88  "
      ]
     },
     "execution_count": 374,
     "metadata": {},
     "output_type": "execute_result"
    }
   ],
   "source": [
    "# Ver las primeras filas del nuevo DataFrame\n",
    "df_accesoTVsuscripcionProvincia_habitantes_hogares.head()"
   ]
  },
  {
   "cell_type": "code",
   "execution_count": 375,
   "id": "54f3ffde-e9f1-480c-adcc-ee29c7f36782",
   "metadata": {},
   "outputs": [
    {
     "data": {
      "text/plain": [
       "Index(['fecha', 'Provincia', 'Accesos TV por suscripción por cada 100 hab',\n",
       "       'Accesos TV por suscripción por cada 100 hogares'],\n",
       "      dtype='object')"
      ]
     },
     "execution_count": 375,
     "metadata": {},
     "output_type": "execute_result"
    }
   ],
   "source": [
    "# Ver los nombres de las columnas del DataFrame\n",
    "df_accesoTVsuscripcionProvincia_habitantes_hogares.columns"
   ]
  },
  {
   "cell_type": "code",
   "execution_count": 376,
   "id": "d15d22ec-d61f-4140-8a58-b12678587f50",
   "metadata": {},
   "outputs": [],
   "source": [
    "# Renombrar columnas a minúsculas y sin tildes\n",
    "df_accesoTVsuscripcionProvincia_habitantes_hogares.rename(columns={\n",
    "    'Provincia': 'provincia',\n",
    "    'Accesos TV por suscripción por cada 100 hab': 'suscripcioncada100hab',\n",
    "    'Accesos TV por suscripción por cada 100 hogares': 'suscripcioncada100hogares'    \n",
    "}, inplace=True)"
   ]
  },
  {
   "cell_type": "code",
   "execution_count": 377,
   "id": "670e5031-1008-4c10-8656-04583b654b72",
   "metadata": {},
   "outputs": [
    {
     "name": "stdout",
     "output_type": "stream",
     "text": [
      "<class 'pandas.core.frame.DataFrame'>\n",
      "RangeIndex: 1000 entries, 0 to 999\n",
      "Data columns (total 4 columns):\n",
      " #   Column                     Non-Null Count  Dtype         \n",
      "---  ------                     --------------  -----         \n",
      " 0   fecha                      1000 non-null   datetime64[ns]\n",
      " 1   provincia                  1000 non-null   object        \n",
      " 2   suscripcioncada100hab      1000 non-null   float64       \n",
      " 3   suscripcioncada100hogares  1000 non-null   float64       \n",
      "dtypes: datetime64[ns](1), float64(2), object(1)\n",
      "memory usage: 31.4+ KB\n"
     ]
    }
   ],
   "source": [
    "df_accesoTVsuscripcionProvincia_habitantes_hogares.info()"
   ]
  },
  {
   "cell_type": "markdown",
   "id": "9be323a8-fcf3-4169-a65f-8a1ba7198163",
   "metadata": {},
   "source": [
    "# Transformaciones DataFrame \"Penetración Internet\""
   ]
  },
  {
   "cell_type": "code",
   "execution_count": 436,
   "id": "e6a90bad-eb06-4469-845b-d535659729f7",
   "metadata": {},
   "outputs": [
    {
     "data": {
      "text/html": [
       "<div>\n",
       "<style scoped>\n",
       "    .dataframe tbody tr th:only-of-type {\n",
       "        vertical-align: middle;\n",
       "    }\n",
       "\n",
       "    .dataframe tbody tr th {\n",
       "        vertical-align: top;\n",
       "    }\n",
       "\n",
       "    .dataframe thead th {\n",
       "        text-align: right;\n",
       "    }\n",
       "</style>\n",
       "<table border=\"1\" class=\"dataframe\">\n",
       "  <thead>\n",
       "    <tr style=\"text-align: right;\">\n",
       "      <th></th>\n",
       "      <th>Año</th>\n",
       "      <th>Trimestre</th>\n",
       "      <th>Provincia</th>\n",
       "      <th>Accesos por cada 100 hogares</th>\n",
       "    </tr>\n",
       "  </thead>\n",
       "  <tbody>\n",
       "    <tr>\n",
       "      <th>0</th>\n",
       "      <td>2024</td>\n",
       "      <td>1</td>\n",
       "      <td>Buenos Aires</td>\n",
       "      <td>81.10</td>\n",
       "    </tr>\n",
       "    <tr>\n",
       "      <th>1</th>\n",
       "      <td>2024</td>\n",
       "      <td>1</td>\n",
       "      <td>Capital Federal</td>\n",
       "      <td>119.53</td>\n",
       "    </tr>\n",
       "    <tr>\n",
       "      <th>2</th>\n",
       "      <td>2024</td>\n",
       "      <td>1</td>\n",
       "      <td>Catamarca</td>\n",
       "      <td>68.82</td>\n",
       "    </tr>\n",
       "    <tr>\n",
       "      <th>3</th>\n",
       "      <td>2024</td>\n",
       "      <td>1</td>\n",
       "      <td>Chaco</td>\n",
       "      <td>46.70</td>\n",
       "    </tr>\n",
       "    <tr>\n",
       "      <th>4</th>\n",
       "      <td>2024</td>\n",
       "      <td>1</td>\n",
       "      <td>Chubut</td>\n",
       "      <td>84.89</td>\n",
       "    </tr>\n",
       "  </tbody>\n",
       "</table>\n",
       "</div>"
      ],
      "text/plain": [
       "    Año  Trimestre        Provincia  Accesos por cada 100 hogares\n",
       "0  2024          1     Buenos Aires                         81.10\n",
       "1  2024          1  Capital Federal                        119.53\n",
       "2  2024          1        Catamarca                         68.82\n",
       "3  2024          1            Chaco                         46.70\n",
       "4  2024          1           Chubut                         84.89"
      ]
     },
     "execution_count": 436,
     "metadata": {},
     "output_type": "execute_result"
    }
   ],
   "source": [
    "df_accesoHogaresProvincia.head()"
   ]
  },
  {
   "cell_type": "code",
   "execution_count": 437,
   "id": "244678e6-e716-47a6-99f8-6adbabf0697c",
   "metadata": {},
   "outputs": [
    {
     "name": "stdout",
     "output_type": "stream",
     "text": [
      "<class 'pandas.core.frame.DataFrame'>\n",
      "RangeIndex: 984 entries, 0 to 983\n",
      "Data columns (total 4 columns):\n",
      " #   Column                        Non-Null Count  Dtype  \n",
      "---  ------                        --------------  -----  \n",
      " 0   Año                           984 non-null    int64  \n",
      " 1   Trimestre                     984 non-null    int64  \n",
      " 2   Provincia                     984 non-null    object \n",
      " 3   Accesos por cada 100 hogares  984 non-null    float64\n",
      "dtypes: float64(1), int64(2), object(1)\n",
      "memory usage: 30.9+ KB\n",
      "Valores faltantes por columna:\n",
      "Año                             0\n",
      "Trimestre                       0\n",
      "Provincia                       0\n",
      "Accesos por cada 100 hogares    0\n",
      "dtype: int64\n",
      "Registros duplicados: 0\n"
     ]
    }
   ],
   "source": [
    "# Verificar la estructura del DataFrame y los tipos de datos\n",
    "df_accesoHogaresProvincia.info()\n",
    "\n",
    "# Verificar si hay valores faltantes\n",
    "missing_values = df_accesoHogaresProvincia.isnull().sum()\n",
    "print(\"Valores faltantes por columna:\")\n",
    "print(missing_values)\n",
    "\n",
    "# Verificar si hay registros duplicados\n",
    "duplicated_records = df_accesoHogaresProvincia.duplicated().sum()\n",
    "print(f\"Registros duplicados: {duplicated_records}\")"
   ]
  },
  {
   "cell_type": "code",
   "execution_count": 438,
   "id": "bca414fe-211c-4349-99c8-10bf0d168e1f",
   "metadata": {},
   "outputs": [
    {
     "name": "stdout",
     "output_type": "stream",
     "text": [
      "    Año  Trimestre      fecha\n",
      "0  2024          1 2024-01-01\n",
      "1  2024          1 2024-01-01\n",
      "2  2024          1 2024-01-01\n",
      "3  2024          1 2024-01-01\n",
      "4  2024          1 2024-01-01\n"
     ]
    }
   ],
   "source": [
    "# Crear una función para asignar una fecha basada en el año y el trimestre\n",
    "def generar_fecha(row):\n",
    "    if row['Trimestre'] == 1:\n",
    "        return f\"{row['Año']}-01-01\"\n",
    "    elif row['Trimestre'] == 2:\n",
    "        return f\"{row['Año']}-04-01\"\n",
    "    elif row['Trimestre'] == 3:\n",
    "        return f\"{row['Año']}-07-01\"\n",
    "    elif row['Trimestre'] == 4:\n",
    "        return f\"{row['Año']}-10-01\"\n",
    "\n",
    "# Asegurarse de estar trabajando con una copia completa del DataFrame\n",
    "df_accesoHogaresProvincia = df_accesoHogaresProvincia.copy()\n",
    "\n",
    "# Aplicar la función para crear la nueva columna 'fecha'\n",
    "df_accesoHogaresProvincia['fecha'] = df_accesoHogaresProvincia.apply(generar_fecha, axis=1)\n",
    "\n",
    "# Convertir la columna 'fecha' a tipo datetime\n",
    "df_accesoHogaresProvincia['fecha'] = pd.to_datetime(df_accesoHogaresProvincia['fecha'], format='%Y-%m-%d')\n",
    "\n",
    "# Verificar el DataFrame con la nueva columna 'fecha'\n",
    "print(df_accesoHogaresProvincia[['Año', 'Trimestre', 'fecha']].head())"
   ]
  },
  {
   "cell_type": "code",
   "execution_count": 439,
   "id": "9f3acad9-cb16-435b-be46-deadc88edf22",
   "metadata": {},
   "outputs": [],
   "source": [
    "# Eliminar las columnas 'Año' y 'Trimestre' ya que ahora tenemos la columna 'fecha'\n",
    "df_accesoHogaresProvincia = df_accesoHogaresProvincia.drop(columns=['Año', 'Trimestre'])\n",
    "\n",
    "# Reubicar la columna 'fecha' como la primera columna del DataFrame\n",
    "cols = ['fecha'] + [col for col in df_accesoHogaresProvincia.columns if col != 'fecha']\n",
    "df_accesoHogaresProvincia = df_accesoHogaresProvincia[cols]"
   ]
  },
  {
   "cell_type": "code",
   "execution_count": 440,
   "id": "20d6db1a-65b5-4324-9659-0bd1dcd8b96d",
   "metadata": {},
   "outputs": [
    {
     "name": "stdout",
     "output_type": "stream",
     "text": [
      "        fecha         Provincia  Accesos por cada 100 hogares\n",
      "0  2024-01-01      Buenos Aires                         81.10\n",
      "13 2024-01-01          Misiones                         56.76\n",
      "1  2024-01-01   Capital Federal                        119.53\n",
      "23 2024-01-01           Tucumán                         60.48\n",
      "22 2024-01-01  Tierra Del Fuego                        109.78\n"
     ]
    }
   ],
   "source": [
    "# Ordenar el DataFrame por la columna 'fecha'\n",
    "df_accesoHogaresProvincia = df_accesoHogaresProvincia.sort_values(by=['Provincia', 'fecha'])\n",
    "\n",
    "# Verificar el DataFrame ordenado\n",
    "print(df_accesoHogaresProvincia_ordenado.head())"
   ]
  },
  {
   "cell_type": "code",
   "execution_count": 441,
   "id": "9cf77fb8-7c01-4dc8-bb6a-31f2bf89b4b8",
   "metadata": {},
   "outputs": [
    {
     "name": "stdout",
     "output_type": "stream",
     "text": [
      "         fecha     Provincia  Accesos por cada 100 hogares  Acceso_anterior  \\\n",
      "960 2014-01-01  Buenos Aires                     54.570073              NaN   \n",
      "936 2014-04-01  Buenos Aires                     55.061417        54.570073   \n",
      "912 2014-07-01  Buenos Aires                     56.754739        55.061417   \n",
      "888 2014-10-01  Buenos Aires                     56.094337        56.754739   \n",
      "864 2015-01-01  Buenos Aires                     56.370484        56.094337   \n",
      "\n",
      "          KPI  \n",
      "960  2.000000  \n",
      "936  0.900391  \n",
      "912  3.075334  \n",
      "888 -1.163608  \n",
      "864  0.492292  \n"
     ]
    }
   ],
   "source": [
    "# Crear una nueva columna para almacenar el acceso del trimestre anterior\n",
    "df_accesoHogaresProvincia['Acceso_anterior'] = df_accesoHogaresProvincia.groupby('Provincia')['Accesos por cada 100 hogares'].shift(1)\n",
    "\n",
    "# Calcular el KPI para cada provincia y trimestre\n",
    "df_accesoHogaresProvincia['KPI'] = ((df_accesoHogaresProvincia['Accesos por cada 100 hogares'] - df_accesoHogaresProvincia['Acceso_anterior']) / df_accesoHogaresProvincia['Acceso_anterior']) * 100\n",
    "\n",
    "# Rellenar los valores nulos del KPI del primer trimestre con el valor 2 sin usar inplace\n",
    "df_accesoHogaresProvincia['KPI'] = df_accesoHogaresProvincia['KPI'].fillna(2)\n",
    "\n",
    "# Verificar las primeras filas con el KPI calculado\n",
    "print(df_accesoHogaresProvincia[['fecha', 'Provincia', 'Accesos por cada 100 hogares', 'Acceso_anterior', 'KPI']].head())"
   ]
  },
  {
   "cell_type": "code",
   "execution_count": 442,
   "id": "463f9b3c-eca4-46c3-8bd4-e92241b2ad6e",
   "metadata": {},
   "outputs": [
    {
     "name": "stdout",
     "output_type": "stream",
     "text": [
      "Index(['fecha', 'provincia', 'accesoscada100hogares', 'acceso_anterior',\n",
      "       'kpi'],\n",
      "      dtype='object')\n"
     ]
    }
   ],
   "source": [
    "# Renombrar columnas a minúsculas y sin tildes\n",
    "df_accesoHogaresProvincia.rename(columns={    \n",
    "    'Provincia':'provincia',\n",
    "    'Accesos por cada 100 hogares': 'accesoscada100hogares',\n",
    "    'Acceso_anterior': 'acceso_anterior',    \n",
    "    'KPI': 'kpi'\n",
    "}, inplace=True)\n",
    "\n",
    "# Verificar el cambio de nombres de columnas\n",
    "print(df_accesoHogaresProvincia.columns)"
   ]
  },
  {
   "cell_type": "code",
   "execution_count": 443,
   "id": "e79b987c-1eba-43f4-bcc8-db489c032c31",
   "metadata": {},
   "outputs": [
    {
     "name": "stdout",
     "output_type": "stream",
     "text": [
      "<class 'pandas.core.frame.DataFrame'>\n",
      "Index: 984 entries, 960 to 23\n",
      "Data columns (total 5 columns):\n",
      " #   Column                 Non-Null Count  Dtype         \n",
      "---  ------                 --------------  -----         \n",
      " 0   fecha                  984 non-null    datetime64[ns]\n",
      " 1   provincia              984 non-null    object        \n",
      " 2   accesoscada100hogares  984 non-null    float64       \n",
      " 3   acceso_anterior        960 non-null    float64       \n",
      " 4   kpi                    984 non-null    float64       \n",
      "dtypes: datetime64[ns](1), float64(3), object(1)\n",
      "memory usage: 46.1+ KB\n"
     ]
    }
   ],
   "source": [
    "df_accesoHogaresProvincia.info()"
   ]
  },
  {
   "cell_type": "code",
   "execution_count": 389,
   "id": "8d6d3c99-b9ec-41ca-8ea6-984ccbc9aef6",
   "metadata": {},
   "outputs": [
    {
     "name": "stdout",
     "output_type": "stream",
     "text": [
      "    Año  Trimestre        Provincia  Accesos por cada 100 hogares\n",
      "0  2024          1     Buenos Aires                         81.10\n",
      "1  2024          1  Capital Federal                        119.53\n",
      "2  2024          1        Catamarca                         68.82\n",
      "3  2024          1            Chaco                         46.70\n",
      "4  2024          1           Chubut                         84.89\n"
     ]
    }
   ],
   "source": [
    "print(df_accesoHogaresProvincia.head())"
   ]
  },
  {
   "cell_type": "code",
   "execution_count": 390,
   "id": "e39e7759-80b5-4bd6-af5c-cfc7758a0489",
   "metadata": {},
   "outputs": [
    {
     "name": "stdout",
     "output_type": "stream",
     "text": [
      "<class 'pandas.core.frame.DataFrame'>\n",
      "RangeIndex: 984 entries, 0 to 983\n",
      "Data columns (total 4 columns):\n",
      " #   Column                        Non-Null Count  Dtype  \n",
      "---  ------                        --------------  -----  \n",
      " 0   Año                           984 non-null    int64  \n",
      " 1   Trimestre                     984 non-null    int64  \n",
      " 2   Provincia                     984 non-null    object \n",
      " 3   Accesos por cada 100 hogares  984 non-null    float64\n",
      "dtypes: float64(1), int64(2), object(1)\n",
      "memory usage: 30.9+ KB\n",
      "Valores faltantes por columna:\n",
      "Año                             0\n",
      "Trimestre                       0\n",
      "Provincia                       0\n",
      "Accesos por cada 100 hogares    0\n",
      "dtype: int64\n",
      "Registros duplicados: 0\n"
     ]
    }
   ],
   "source": [
    "# Verificar la estructura del DataFrame y los tipos de datos\n",
    "df_accesoHogaresProvincia.info()\n",
    "\n",
    "# Verificar si hay valores faltantes\n",
    "missing_values = df_accesoHogaresProvincia.isnull().sum()\n",
    "print(\"Valores faltantes por columna:\")\n",
    "print(missing_values)\n",
    "\n",
    "# Verificar si hay registros duplicados\n",
    "duplicated_records = df_accesoHogaresProvincia.duplicated().sum()\n",
    "print(f\"Registros duplicados: {duplicated_records}\")"
   ]
  },
  {
   "cell_type": "code",
   "execution_count": 391,
   "id": "30c4184c-827f-43cc-9bee-7f13bad90f30",
   "metadata": {},
   "outputs": [
    {
     "name": "stdout",
     "output_type": "stream",
     "text": [
      "<class 'pandas.core.frame.DataFrame'>\n",
      "RangeIndex: 984 entries, 0 to 983\n",
      "Data columns (total 4 columns):\n",
      " #   Column                        Non-Null Count  Dtype         \n",
      "---  ------                        --------------  -----         \n",
      " 0   Año                           984 non-null    datetime64[ns]\n",
      " 1   Trimestre                     984 non-null    int64         \n",
      " 2   Provincia                     984 non-null    object        \n",
      " 3   Accesos por cada 100 hogares  984 non-null    float64       \n",
      "dtypes: datetime64[ns](1), float64(1), int64(1), object(1)\n",
      "memory usage: 30.9+ KB\n"
     ]
    }
   ],
   "source": [
    "# Convertir la columna 'Año' a tipo datetime, considerando solo el año\n",
    "df_accesoHogaresProvincia['Año'] = pd.to_datetime(df_accesoHogaresProvincia['Año'], format='%Y')\n",
    "\n",
    "# Verificar la estructura del DataFrame para confirmar que el tipo de 'Año' cambió\n",
    "df_accesoHogaresProvincia.info()\n"
   ]
  },
  {
   "cell_type": "code",
   "execution_count": 392,
   "id": "908f4928-391f-4cc3-8a2f-dbdf3871d1a2",
   "metadata": {},
   "outputs": [
    {
     "name": "stdout",
     "output_type": "stream",
     "text": [
      "           Año  Trimestre     Provincia  Accesos por cada 100 hogares  \\\n",
      "960 2014-01-01          1  Buenos Aires                     54.570073   \n",
      "936 2014-01-01          2  Buenos Aires                     55.061417   \n",
      "912 2014-01-01          3  Buenos Aires                     56.754739   \n",
      "888 2014-01-01          4  Buenos Aires                     56.094337   \n",
      "864 2015-01-01          1  Buenos Aires                     56.370484   \n",
      "\n",
      "     Acceso_anterior       KPI  \n",
      "960              NaN  2.000000  \n",
      "936        54.570073  0.900391  \n",
      "912        55.061417  3.075334  \n",
      "888        56.754739 -1.163608  \n",
      "864        56.094337  0.492292  \n"
     ]
    }
   ],
   "source": [
    "# Ordenar el DataFrame por provincia, año y trimestre\n",
    "df_accesoHogaresProvincia = df_accesoHogaresProvincia.sort_values(by=['Provincia', 'Año', 'Trimestre'])\n",
    "\n",
    "# Crear una nueva columna para almacenar el acceso del trimestre anterior\n",
    "df_accesoHogaresProvincia['Acceso_anterior'] = df_accesoHogaresProvincia.groupby('Provincia')['Accesos por cada 100 hogares'].shift(1)\n",
    "\n",
    "# Calcular el KPI para cada provincia y trimestre\n",
    "df_accesoHogaresProvincia['KPI'] = ((df_accesoHogaresProvincia['Accesos por cada 100 hogares'] - df_accesoHogaresProvincia['Acceso_anterior']) / df_accesoHogaresProvincia['Acceso_anterior']) * 100\n",
    "\n",
    "# Rellenar los valores nulos del KPI del primer trimestre con el valor 2 sin usar inplace\n",
    "df_accesoHogaresProvincia['KPI'] = df_accesoHogaresProvincia['KPI'].fillna(2)\n",
    "\n",
    "# Verificar las primeras filas con el KPI calculado\n",
    "print(df_accesoHogaresProvincia[['Año', 'Trimestre', 'Provincia', 'Accesos por cada 100 hogares', 'Acceso_anterior', 'KPI']].head())"
   ]
  },
  {
   "cell_type": "code",
   "execution_count": 393,
   "id": "4149f820-736e-4fc2-9ad2-a86c562ba1a9",
   "metadata": {},
   "outputs": [
    {
     "name": "stdout",
     "output_type": "stream",
     "text": [
      "<class 'pandas.core.frame.DataFrame'>\n",
      "Index: 984 entries, 960 to 23\n",
      "Data columns (total 6 columns):\n",
      " #   Column                        Non-Null Count  Dtype         \n",
      "---  ------                        --------------  -----         \n",
      " 0   Año                           984 non-null    datetime64[ns]\n",
      " 1   Trimestre                     984 non-null    int64         \n",
      " 2   Provincia                     984 non-null    object        \n",
      " 3   Accesos por cada 100 hogares  984 non-null    float64       \n",
      " 4   Acceso_anterior               960 non-null    float64       \n",
      " 5   KPI                           984 non-null    float64       \n",
      "dtypes: datetime64[ns](1), float64(3), int64(1), object(1)\n",
      "memory usage: 53.8+ KB\n"
     ]
    }
   ],
   "source": [
    "# Verificar la estructura del DataFrame y los tipos de datos\n",
    "df_accesoHogaresProvincia.info()"
   ]
  },
  {
   "cell_type": "code",
   "execution_count": 366,
   "id": "26e7e556-0717-4e17-9970-aaae776c098b",
   "metadata": {},
   "outputs": [
    {
     "name": "stdout",
     "output_type": "stream",
     "text": [
      "Index(['ano', 'trimestre', 'provincia', 'accesoscada100hogares',\n",
      "       'acceso_anterior', 'kpi'],\n",
      "      dtype='object')\n"
     ]
    }
   ],
   "source": [
    "# Renombrar columnas a minúsculas y sin tildes\n",
    "df_accesoHogaresProvincia.rename(columns={\n",
    "    'Año': 'ano',  # Cambiar 'Año' a 'ano'\n",
    "    'Trimestre': 'trimestre',\n",
    "    'Provincia': 'provincia',\n",
    "    'Accesos por cada 100 hogares': 'accesoscada100hogares',\n",
    "    'Acceso_anterior': 'acceso_anterior',    \n",
    "    'KPI': 'kpi'\n",
    "}, inplace=True)\n",
    "\n",
    "# Verificar el cambio de nombres de columnas\n",
    "print(df_accesoHogaresProvincia.columns)"
   ]
  },
  {
   "cell_type": "markdown",
   "id": "a5c48e9f-d6ad-45f2-8cfe-c5470083dfe9",
   "metadata": {
    "jp-MarkdownHeadingCollapsed": true
   },
   "source": [
    "# KPI penetración de fibra óptica por provincia\n",
    "### Este KPI se implementa para aumentar porcentualmente, de acuerdo a una meta establecida para cada provincia, el acceso al servicio de internet mediante la tecnología de fibra óptica para el próximo trimestre, por provincia. \n",
    "La meta se estimo basado en históricos de crecimiento. "
   ]
  },
  {
   "cell_type": "code",
   "execution_count": 498,
   "id": "c480fdc2-c0d1-4fbc-acc1-34ccc28779b2",
   "metadata": {},
   "outputs": [],
   "source": [
    "# Cargar los DataFrames desde la base de datos\n",
    "#df_accesofibra = pd.read_sql(\"SELECT fecha, provincia, accesos FROM accesotecnologiaprovincia WHERE tecnologia='Fibra óptica'\", con=engine)\n",
    "\n",
    "df_accesofibra = pd.read_sql(\"\"\"\n",
    "    SELECT \n",
    "        fecha, \n",
    "        provincia, \n",
    "        SUM(CASE WHEN tecnologia = 'Fibra óptica' THEN accesos ELSE 0 END) AS accesos_fibra,\n",
    "        SUM(accesos) AS total_accesos\n",
    "    FROM accesotecnologiaprovincia\n",
    "    GROUP BY fecha, provincia\n",
    "\"\"\", con=engine)\n",
    "\n"
   ]
  },
  {
   "cell_type": "code",
   "execution_count": 499,
   "id": "b0598d46-9f94-4dfb-9b74-e7331749c692",
   "metadata": {},
   "outputs": [],
   "source": [
    "# Ordenar el DataFrame por la columna 'fecha'\n",
    "df_accesofibra = df_accesofibra.sort_values(by=['provincia', 'fecha'])"
   ]
  },
  {
   "cell_type": "code",
   "execution_count": 500,
   "id": "dd637247-926d-42bf-9470-2f3011ed72ab",
   "metadata": {},
   "outputs": [
    {
     "name": "stdout",
     "output_type": "stream",
     "text": [
      "          fecha     provincia  accesos_fibra  total_accesos  \\\n",
      "151  2014-01-01  Buenos Aires         120960        2706052   \n",
      "86   2014-04-01  Buenos Aires         120008        2731399   \n",
      "152  2014-07-01  Buenos Aires         124474        2817684   \n",
      "197  2014-10-01  Buenos Aires         120528        2784369   \n",
      "116  2015-01-01  Buenos Aires         134177        2832902   \n",
      "\n",
      "     acceso_fibraanterior  total_accesoanterior  kpi_porcentajefibra  \n",
      "151                   NaN                   NaN                  NaN  \n",
      "86               120960.0             2706052.0            -0.000763  \n",
      "152              120008.0             2731399.0             0.000240  \n",
      "197              124474.0             2817684.0            -0.000889  \n",
      "116              120528.0             2784369.0             0.004076  \n"
     ]
    }
   ],
   "source": [
    "# Crear una nueva columna para almacenar el acceso del trimestre anterior\n",
    "df_accesofibra['acceso_fibraanterior'] = df_accesofibra.groupby('provincia')['accesos_fibra'].shift(1)\n",
    "df_accesofibra['total_accesoanterior'] = df_accesofibra.groupby('provincia')['total_accesos'].shift(1)\n",
    "\n",
    "# Calcular el KPI para cada provincia y trimestre\n",
    "#df_accesofibra['kpi'] = ((df_accesofibra['accesos'] - df_accesofibra['acceso_anterior']) / df_accesofibra['acceso_anterior']) * 100\n",
    "df_accesofibra['kpi_porcentajefibra'] = (df_accesofibra['accesos_fibra']/df_accesofibra['total_accesos']) - (df_accesofibra['acceso_fibraanterior']/df_accesofibra['total_accesoanterior'])\n",
    "\n",
    "# Rellenar los valores nulos del KPI del primer trimestre con el valor 2 sin usar inplace\n",
    "#df_accesoHogaresProvincia['KPI'] = df_accesoHogaresProvincia['KPI'].fillna(2)\n",
    "\n",
    "# Verificar las primeras filas con el KPI calculado\n",
    "print(df_accesofibra.head())"
   ]
  },
  {
   "cell_type": "code",
   "execution_count": 503,
   "id": "1aea3727-daaa-4f8f-acc6-e17856f4ab1b",
   "metadata": {},
   "outputs": [],
   "source": [
    "## Asegurarse de que la columna 'fecha' esté en formato datetime (solo con la fecha)\n",
    "df_accesofibra['fecha'] = pd.to_datetime(df_accesofibra['fecha'], errors='coerce')\n",
    "\n",
    "# Convertir la columna 'acceso_anterior' a tipo entero\n",
    "df_accesofibra['acceso_fibraanterior'] = pd.to_numeric(df_accesofibra['acceso_fibraanterior'], errors='coerce').astype('Int64')\n",
    "df_accesofibra['total_accesoanterior'] = pd.to_numeric(df_accesofibra['total_accesoanterior'], errors='coerce').astype('Int64')"
   ]
  },
  {
   "cell_type": "code",
   "execution_count": 504,
   "id": "e10856ab-10e4-42f0-bec3-d01eda974164",
   "metadata": {},
   "outputs": [
    {
     "name": "stdout",
     "output_type": "stream",
     "text": [
      "<class 'pandas.core.frame.DataFrame'>\n",
      "Index: 200 entries, 151 to 101\n",
      "Data columns (total 7 columns):\n",
      " #   Column                Non-Null Count  Dtype         \n",
      "---  ------                --------------  -----         \n",
      " 0   fecha                 200 non-null    datetime64[ns]\n",
      " 1   provincia             200 non-null    object        \n",
      " 2   accesos_fibra         200 non-null    int64         \n",
      " 3   total_accesos         200 non-null    int64         \n",
      " 4   acceso_fibraanterior  195 non-null    Int64         \n",
      " 5   total_accesoanterior  195 non-null    Int64         \n",
      " 6   kpi_porcentajefibra   195 non-null    float64       \n",
      "dtypes: Int64(2), datetime64[ns](1), float64(1), int64(2), object(1)\n",
      "memory usage: 12.9+ KB\n"
     ]
    }
   ],
   "source": [
    "df_accesofibra.info()"
   ]
  },
  {
   "cell_type": "markdown",
   "id": "4509d3d8-1e8f-44b1-be4e-e60872d6255b",
   "metadata": {},
   "source": [
    "# KPI penetración de suscripción por TV por provincia"
   ]
  },
  {
   "cell_type": "code",
   "execution_count": 485,
   "id": "9ecbe58f-a7b3-4353-865e-9822cc215b14",
   "metadata": {},
   "outputs": [],
   "source": [
    "# Cargar los DataFrames desde la base de datos\n",
    "df_acceso_suscripcionTV = pd.read_sql(\"SELECT fecha, provincia, suscripcioncada100hogares FROM tvsuscripcionprovincia_habitantes_hogares\", con=engine)"
   ]
  },
  {
   "cell_type": "code",
   "execution_count": 486,
   "id": "a013e6c5-5b9b-49c6-8946-ed61ed9c433c",
   "metadata": {},
   "outputs": [],
   "source": [
    "# Ordenar el DataFrame por la columna 'fecha'\n",
    "df_acceso_suscripcionTV = df_acceso_suscripcionTV.sort_values(by=['provincia', 'fecha'])"
   ]
  },
  {
   "cell_type": "code",
   "execution_count": 487,
   "id": "a1a93cee-4bf5-40b1-8134-b0548e586d97",
   "metadata": {},
   "outputs": [
    {
     "name": "stdout",
     "output_type": "stream",
     "text": [
      "          fecha     provincia  suscripcioncada100hogares  acceso_anterior  \\\n",
      "984  2014-01-01  Buenos Aires                  47.068617              NaN   \n",
      "960  2014-04-01  Buenos Aires                  49.348236        47.068617   \n",
      "936  2014-07-01  Buenos Aires                  49.380920        49.348236   \n",
      "912  2014-10-01  Buenos Aires                  49.649640        49.380920   \n",
      "888  2015-01-01  Buenos Aires                  49.290439        49.649640   \n",
      "\n",
      "          kpi  \n",
      "984       NaN  \n",
      "960  4.843181  \n",
      "936  0.066231  \n",
      "912  0.544178  \n",
      "888 -0.723472  \n"
     ]
    }
   ],
   "source": [
    "# Crear una nueva columna para almacenar el acceso del trimestre anterior\n",
    "df_acceso_suscripcionTV['acceso_anterior'] = df_acceso_suscripcionTV.groupby('provincia')['suscripcioncada100hogares'].shift(1)\n",
    "\n",
    "# Calcular el KPI para cada provincia y trimestre\n",
    "df_acceso_suscripcionTV['kpi'] = ((df_acceso_suscripcionTV['suscripcioncada100hogares'] - df_acceso_suscripcionTV['acceso_anterior']) / df_acceso_suscripcionTV['acceso_anterior']) * 100\n",
    "\n",
    "# Verificar las primeras filas con el KPI calculado\n",
    "print(df_acceso_suscripcionTV.head())"
   ]
  },
  {
   "cell_type": "code",
   "execution_count": 488,
   "id": "8f96197a-3cdc-400c-8c48-6b9d0e561383",
   "metadata": {},
   "outputs": [],
   "source": [
    "# Asegurarse de que la columna 'fecha' esté en formato datetime (solo con la fecha)\n",
    "df_acceso_suscripcionTV['fecha'] = pd.to_datetime(df_acceso_suscripcionTV['fecha'], errors='coerce')\n",
    "\n",
    "# Convertir la columna 'acceso_anterior' a tipo float\n",
    "df_acceso_suscripcionTV['acceso_anterior'] = pd.to_numeric(df_acceso_suscripcionTV['acceso_anterior'], errors='coerce').astype('float')"
   ]
  },
  {
   "cell_type": "code",
   "execution_count": 489,
   "id": "3eae6f47-1434-4b95-ba83-a9853c85c371",
   "metadata": {},
   "outputs": [
    {
     "name": "stdout",
     "output_type": "stream",
     "text": [
      "<class 'pandas.core.frame.DataFrame'>\n",
      "Index: 1000 entries, 984 to 23\n",
      "Data columns (total 5 columns):\n",
      " #   Column                     Non-Null Count  Dtype         \n",
      "---  ------                     --------------  -----         \n",
      " 0   fecha                      1000 non-null   datetime64[ns]\n",
      " 1   provincia                  1000 non-null   object        \n",
      " 2   suscripcioncada100hogares  1000 non-null   float64       \n",
      " 3   acceso_anterior            974 non-null    float64       \n",
      " 4   kpi                        974 non-null    float64       \n",
      "dtypes: datetime64[ns](1), float64(3), object(1)\n",
      "memory usage: 46.9+ KB\n"
     ]
    }
   ],
   "source": [
    "df_acceso_suscripcionTV.info()"
   ]
  },
  {
   "cell_type": "markdown",
   "id": "e5bb645e-cb2e-4026-8316-d1dc1068c940",
   "metadata": {},
   "source": [
    "# Load"
   ]
  },
  {
   "cell_type": "code",
   "execution_count": 169,
   "id": "62504bc3-0f66-49eb-a9f5-e7a5cd1b9de5",
   "metadata": {},
   "outputs": [],
   "source": [
    "# Detalles de la conexión a la base de datos PostgreSQL\n",
    "DATABASE_TYPE = 'postgresql'\n",
    "DBAPI = 'psycopg2'\n",
    "ENDPOINT = 'localhost'  # El nombre del host\n",
    "USER = 'pi2_user'  # Usuario de la base de datos\n",
    "PASSWORD = '1234'  # Contraseña del usuario\n",
    "PORT = 5432  # Puerto de PostgreSQL (por defecto es 5432)\n",
    "DATABASE = 'pi2'  # El nombre de la base de datos\n",
    "\n",
    "# Crear la URL de conexión a la base de datos\n",
    "connection_string = f\"{DATABASE_TYPE}+{DBAPI}://{USER}:{PASSWORD}@{ENDPOINT}:{PORT}/{DATABASE}\"\n",
    "\n",
    "# Crear el motor de conexión\n",
    "engine = create_engine(connection_string)"
   ]
  },
  {
   "cell_type": "code",
   "execution_count": 444,
   "id": "90216305-6111-4368-941e-cce5f2bc7b54",
   "metadata": {},
   "outputs": [
    {
     "data": {
      "text/plain": [
       "984"
      ]
     },
     "execution_count": 444,
     "metadata": {},
     "output_type": "execute_result"
    }
   ],
   "source": [
    "# Cargar el DataFrame \"Acceso por cada 100 Hogares por provincia\" en la base de datos\n",
    "df_accesoHogaresProvincia.to_sql('accesohogaresprovincia', con=engine, if_exists='append', index=False)"
   ]
  },
  {
   "cell_type": "code",
   "execution_count": 253,
   "id": "e6153ed8-17a3-4f25-9341-438b0894e23d",
   "metadata": {},
   "outputs": [
    {
     "data": {
      "text/plain": [
       "800"
      ]
     },
     "execution_count": 253,
     "metadata": {},
     "output_type": "execute_result"
    }
   ],
   "source": [
    "# Cargar el DataFrame \"Accesos por Tecnología\" en la base de datos\n",
    "df_accesoTecnologiaProvincia_unpivoted.to_sql('accesotecnologiaprovincia', con=engine, if_exists='append', index=False)"
   ]
  },
  {
   "cell_type": "code",
   "execution_count": 184,
   "id": "539f313d-b9b4-4c9a-882e-047fe98f87b0",
   "metadata": {},
   "outputs": [
    {
     "data": {
      "text/plain": [
       "8"
      ]
     },
     "execution_count": 184,
     "metadata": {},
     "output_type": "execute_result"
    }
   ],
   "source": [
    "# Cargar el DataFrame \"Accesos_prov_TV\" en la base de datos\n",
    "df_accesoTVsuscripcionProvincia.to_sql('accesotvsuscripcionprovincia', con=engine, if_exists='append', index=False)"
   ]
  },
  {
   "cell_type": "code",
   "execution_count": 206,
   "id": "cf22d15d-5c58-40be-b1e9-0d140064773f",
   "metadata": {},
   "outputs": [
    {
     "data": {
      "text/plain": [
       "1000"
      ]
     },
     "execution_count": 206,
     "metadata": {},
     "output_type": "execute_result"
    }
   ],
   "source": [
    "# Cargar el DataFrame \"accesoTVsuscripcionProvincia_habitantes_hogares\" en la base de datos\n",
    "df_accesoTVsuscripcionProvincia_habitantes_hogares.to_sql('tvsuscripcionprovincia_habitantes_hogares', con=engine, if_exists='append', index=False)"
   ]
  },
  {
   "cell_type": "code",
   "execution_count": 240,
   "id": "6e3f4968-926b-4074-b4da-6009f495f50c",
   "metadata": {},
   "outputs": [
    {
     "data": {
      "text/plain": [
       "5"
      ]
     },
     "execution_count": 240,
     "metadata": {},
     "output_type": "execute_result"
    }
   ],
   "source": [
    "# Cargar el DataFrame \"top5_provincia\n",
    "df_top5.to_sql('top5_provincia', con=engine, if_exists='append', index=False)"
   ]
  },
  {
   "cell_type": "code",
   "execution_count": 505,
   "id": "f782f4e5-a016-4ade-8b72-ecc3d34467fe",
   "metadata": {},
   "outputs": [
    {
     "data": {
      "text/plain": [
       "200"
      ]
     },
     "execution_count": 505,
     "metadata": {},
     "output_type": "execute_result"
    }
   ],
   "source": [
    "# Cargar el DataFrame \"df_accesofibra\"\n",
    "df_accesofibra.to_sql('kpi_penetracion_fibra', con=engine, if_exists='append', index=False)"
   ]
  },
  {
   "cell_type": "code",
   "execution_count": 490,
   "id": "c14b4651-b356-4102-93c6-e5164a6c99a9",
   "metadata": {},
   "outputs": [
    {
     "data": {
      "text/plain": [
       "1000"
      ]
     },
     "execution_count": 490,
     "metadata": {},
     "output_type": "execute_result"
    }
   ],
   "source": [
    "# Cargar el DataFrame \"df_acceso_suscripcionTV\"\n",
    "df_acceso_suscripcionTV.to_sql('kpi_penetracion_suscripciontv', con=engine, if_exists='append', index=False)"
   ]
  },
  {
   "cell_type": "code",
   "execution_count": null,
   "id": "3929ce98-9473-48a3-8c15-f79d1bff929e",
   "metadata": {},
   "outputs": [],
   "source": []
  }
 ],
 "metadata": {
  "kernelspec": {
   "display_name": "PI2-Henry",
   "language": "python",
   "name": "pi2_env"
  },
  "language_info": {
   "codemirror_mode": {
    "name": "ipython",
    "version": 3
   },
   "file_extension": ".py",
   "mimetype": "text/x-python",
   "name": "python",
   "nbconvert_exporter": "python",
   "pygments_lexer": "ipython3",
   "version": "3.12.2"
  }
 },
 "nbformat": 4,
 "nbformat_minor": 5
}
